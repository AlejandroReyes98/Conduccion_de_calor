{
  "nbformat": 4,
  "nbformat_minor": 0,
  "metadata": {
    "colab": {
      "name": "Matriz.ipynb",
      "provenance": [],
      "collapsed_sections": []
    },
    "kernelspec": {
      "name": "python3",
      "display_name": "Python 3"
    }
  },
  "cells": [
    {
      "cell_type": "code",
      "metadata": {
        "id": "xiWORkgmpPmn",
        "outputId": "ab5e3daa-3797-43a1-cfa8-a045afe4f128",
        "colab": {
          "base_uri": "https://localhost:8080/",
          "height": 34
        }
      },
      "source": [
        "#TA = int(input('Ingrese la tempratura A: '))\n",
        "#TB = int(input('Ingrese la temperatura B: '))\n",
        "#k = int(input('Ingrese el valor de k: '))\n",
        "N = int(input('Ingrese el numero de nodos: '))\n",
        "#longitu = int(input('Ingrese la longitud de su vara: '))"
      ],
      "execution_count": 49,
      "outputs": [
        {
          "output_type": "stream",
          "text": [
            "Ingrese el numero de nodos: 10\n"
          ],
          "name": "stdout"
        }
      ]
    },
    {
      "cell_type": "code",
      "metadata": {
        "id": "hr5xSTOLvgdm",
        "outputId": "994584a4-db68-426c-cef1-b1206dddbb1c",
        "colab": {
          "base_uri": "https://localhost:8080/",
          "height": 187
        }
      },
      "source": [
        "import numpy as np\n",
        "h = N + 1\n",
        "\n",
        "r = k / (h**2)\n",
        "\n",
        "A = []\n",
        "f0 = [-2, 1]\n",
        "\n",
        "ceros0 = list(map(int, list('0'* (N-2))))\n",
        "l0 = f0 + ceros0\n",
        "A.append(l0)\n",
        "\n",
        "cerosm = range(0, N-2)\n",
        "f1 = [1, -2, 1]\n",
        "\n",
        "izquierda = []\n",
        "for i in cerosm:\n",
        "  izquierda.append(list(map(int, list('0'*i))))\n",
        "derecha = []\n",
        "for i in cerosm[::-1]:\n",
        "  derecha.append(list(map(int, list('0'*i))))\n",
        "\n",
        "for i in range(len(izquierda)):\n",
        "  A.append(izquierda[i] + f1 + derecha[i])\n",
        "\n",
        "linver = l0[::-1]\n",
        "A.append(linver)\n",
        "\n",
        "#list(map(int,A))\n",
        "\n",
        "print(np.matrix(A))\n"
      ],
      "execution_count": 50,
      "outputs": [
        {
          "output_type": "stream",
          "text": [
            "[[-2  1  0  0  0  0  0  0  0  0]\n",
            " [ 1 -2  1  0  0  0  0  0  0  0]\n",
            " [ 0  1 -2  1  0  0  0  0  0  0]\n",
            " [ 0  0  1 -2  1  0  0  0  0  0]\n",
            " [ 0  0  0  1 -2  1  0  0  0  0]\n",
            " [ 0  0  0  0  1 -2  1  0  0  0]\n",
            " [ 0  0  0  0  0  1 -2  1  0  0]\n",
            " [ 0  0  0  0  0  0  1 -2  1  0]\n",
            " [ 0  0  0  0  0  0  0  1 -2  1]\n",
            " [ 0  0  0  0  0  0  0  0  1 -2]]\n"
          ],
          "name": "stdout"
        }
      ]
    }
  ]
}